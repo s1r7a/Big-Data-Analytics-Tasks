{
 "cells": [
  {
   "cell_type": "markdown",
   "id": "b2ff1682",
   "metadata": {},
   "source": [
    "# Name: Saira Ali<br>B21F0272DS020<br>Lab Task"
   ]
  },
  {
   "cell_type": "markdown",
   "id": "66a826d7",
   "metadata": {},
   "source": [
    "## Task 01:\n",
    "#### Understand each function and explain its working"
   ]
  },
  {
   "cell_type": "markdown",
   "id": "01016c46",
   "metadata": {},
   "source": [
    "**Map Function:**<br>It is a built-in function in Python that applies a given function to each item of an iterable (like a list, tuple, etc.) and returns a new iterator which yields the results.<br>It takes two arguments: the function you want to apply and the iterable you want to apply it to.<br>\n",
    "<br>\n",
    "**lambda:**<br>A lambda function in Python is a small anonymous function defined using the lambda keyword. It can have any number of parameters but can only have one expression. Lambda functions are often used when you need a short function for a short period of time.  They are often used as a quick way to define simple functions without the need for a full function definition. <br>\n",
    "<br>\n",
    "**Filter:**<br>The filter() function in Python is used to filter out elements from an iterable (such as a list) based on a specified condition. It takes two arguments: a function that defines the condition for filtering, and an iterable to be filtered.<br>\n",
    "<br>\n",
    "**List comprehensions:**<br>List comprehension is a concise way to create lists in Python. It provides a more readable and often more efficient way to create lists compared to traditional methods like using map and lambda. It consists of brackets containing an expression followed by a for clause, then zero or more for or if clauses."
   ]
  },
  {
   "cell_type": "code",
   "execution_count": 239,
   "id": "fbe9a74a",
   "metadata": {},
   "outputs": [
    {
     "name": "stdout",
     "output_type": "stream",
     "text": [
      "Time taken using for loop: 0.3354954719543457 seconds\n",
      "Time taken using map: 0.29356837272644043 seconds\n",
      "The map function is 12.497068584463852% faster than the for loop.\n"
     ]
    }
   ],
   "source": [
    "import time\n",
    "import random\n",
    "\n",
    "# Generate a large list of random numbers\n",
    "numbers = [random.randint(0, 100) for _ in range(1000000)]\n",
    "\n",
    "# Using a for loop\n",
    "start_time = time.time()\n",
    "squares = []\n",
    "for n in numbers:\n",
    "    squares.append(n**2)\n",
    "end_time = time.time()\n",
    "for_loop_time = end_time - start_time\n",
    "print(f\"Time taken using for loop: {for_loop_time} seconds\")\n",
    "\n",
    "# Using map()\n",
    "start_time = time.time()\n",
    "squares = list(map(lambda n: n**2, numbers))\n",
    "end_time = time.time()\n",
    "map_time = end_time - start_time\n",
    "print(f\"Time taken using map: {map_time} seconds\")\n",
    "\n",
    "# Calculate the percentage difference\n",
    "percentage_difference = ((for_loop_time - map_time) / for_loop_time) * 100\n",
    "print(f\"The map function is {percentage_difference}% faster than the for loop.\")\n"
   ]
  },
  {
   "cell_type": "markdown",
   "id": "62faa94a",
   "metadata": {},
   "source": [
    "From the above code we se that it compares two methods for calculating the `squares of a large list of random numbers`:\n",
    "\n",
    "1. **Using a for loop**: It iterates over each number in the list, calculates its square using the `**` operator, and appends the result to a new list called squares.\n",
    "\n",
    "2. **Using map() with lambda function**: It uses the map() function along with a lambda function to calculate the square of each number in the list. The map() function applies the lambda function to each element in the `numbers` list, creating an iterator of the squared values, which is then converted to a list.\n",
    "\n",
    "After calculating the squares using both methods, it measures the time taken for each approach using the `time` module. Then, it compares the time taken by both methods and calculates the percentage difference to see which method is faster for this task.\n",
    "\n",
    "In simpler terms, it's like timing two different ways of doing the same thing (calculating squares) to see which one is quicker. It's a way of finding out which method is more efficient."
   ]
  },
  {
   "cell_type": "code",
   "execution_count": 240,
   "id": "7c0bfdb4",
   "metadata": {},
   "outputs": [
    {
     "name": "stdout",
     "output_type": "stream",
     "text": [
      "Time taken using for loop: 0.13096308708190918 seconds\n",
      "Time taken using filter: 0.10615968704223633 seconds\n",
      "The filter function is 18.939229818368503% faster than the for loop.\n"
     ]
    }
   ],
   "source": [
    "import time\n",
    "import random\n",
    "\n",
    "# Generate a large list of random numbers\n",
    "numbers = [random.randint(0, 100) for _ in range(1000000)]\n",
    "\n",
    "# Using a for loop\n",
    "start_time = time.time()\n",
    "even_numbers = []\n",
    "for n in numbers:\n",
    "    if n % 2 == 0:\n",
    "        even_numbers.append(n)\n",
    "end_time = time.time()\n",
    "for_loop_time = end_time - start_time\n",
    "print(f\"Time taken using for loop: {for_loop_time} seconds\")\n",
    "\n",
    "# Using filter()\n",
    "start_time = time.time()\n",
    "even_numbers = list(filter(lambda n: n % 2 == 0, numbers))\n",
    "end_time = time.time()\n",
    "filter_time = end_time - start_time\n",
    "print(f\"Time taken using filter: {filter_time} seconds\")\n",
    "\n",
    "# Calculate the percentage difference\n",
    "percentage_difference = ((for_loop_time - filter_time) / for_loop_time) * 100\n",
    "print(f\"The filter function is {percentage_difference}% faster than the for loop.\")\n",
    "\n"
   ]
  },
  {
   "cell_type": "markdown",
   "id": "e5725b10",
   "metadata": {},
   "source": [
    "This code compares two methods for filtering even numbers from a large list of random numbers:\n",
    "\n",
    "1. **Using a for loop with if condition:** It iterates over each number in the list and checks if it's even (n % 2 == 0). If it is, it appends the number to a new list called even_numbers.\n",
    "2. **Using filter() with lambda function:** It uses the filter() function along with a lambda function to filter out even numbers from the list. The filter() function applies the lambda function to each element in the numbers list, retaining only the elements for which the function returns True. It then converts the result into a list.<br>\n",
    "After filtering the even numbers using both methods, it measures the time taken for each approach using the time module. Then, it compares the time taken by both methods and calculates the percentage difference to see which method is faster for this task."
   ]
  },
  {
   "cell_type": "code",
   "execution_count": 241,
   "id": "9932f184",
   "metadata": {},
   "outputs": [
    {
     "name": "stdout",
     "output_type": "stream",
     "text": [
      "Time taken using for loop: 0.3431551456451416 seconds\n",
      "Time taken using list comprehension: 0.2605586051940918 seconds\n",
      "List comprehension is 24.069736822907295% faster than the for loop.\n"
     ]
    }
   ],
   "source": [
    "import time\n",
    "import random\n",
    "\n",
    "# Generate a large list of random numbers\n",
    "numbers = [random.randint(0, 100) for _ in range(1000000)]\n",
    "\n",
    "# Using a for loop\n",
    "start_time = time.time()\n",
    "squares = []\n",
    "for n in numbers:\n",
    "    squares.append(n**2)\n",
    "end_time = time.time()\n",
    "for_loop_time = end_time - start_time\n",
    "print(f\"Time taken using for loop: {for_loop_time} seconds\")\n",
    "\n",
    "# Using list comprehension\n",
    "start_time = time.time()\n",
    "squares = [n**2 for n in numbers]\n",
    "end_time = time.time()\n",
    "list_comprehension_time = end_time - start_time\n",
    "print(f\"Time taken using list comprehension: {list_comprehension_time} seconds\")\n",
    "\n",
    "# Calculate the percentage difference\n",
    "percentage_difference = ((for_loop_time - list_comprehension_time) / for_loop_time) * 100\n",
    "print(f\"List comprehension is {percentage_difference}% faster than the for loop.\")\n"
   ]
  },
  {
   "cell_type": "markdown",
   "id": "10865744",
   "metadata": {},
   "source": [
    "This code compares two methods for calculating the squares of a large list of random numbers and measures their performance:\n",
    "\n",
    "1. **Using a for loop**: It iterates over each number in the list, calculates its square using the `**` operator, and appends the result to a new list called `squares`.\n",
    "\n",
    "2. **Using list comprehension**: It utilizes list comprehension, which is a concise and efficient way of creating lists in Python. It generates a list of squared numbers by applying the expression `n**2` to each element `n` in the `numbers` list.\n",
    "\n",
    "After calculating the squares using both methods, it measures the time taken for each approach using the `time` module. Then, it compares the time taken by both methods and calculates the percentage difference to see which method is faster for this task."
   ]
  },
  {
   "cell_type": "code",
   "execution_count": 242,
   "id": "b2c0a194",
   "metadata": {},
   "outputs": [
    {
     "name": "stdout",
     "output_type": "stream",
     "text": [
      "Time taken using for loop: 0.5718531608581543 seconds\n",
      "Time taken using apply: 0.008288145065307617 seconds\n",
      "The apply function is 98.55065152514503% faster than the for loop.\n"
     ]
    }
   ],
   "source": [
    "import time\n",
    "import pandas as pd\n",
    "import numpy as np\n",
    "\n",
    "# Create a large DataFrame\n",
    "df = pd.DataFrame({\n",
    "    'A': np.random.randint(0, 100, size=(1000000)),\n",
    "    'B': np.random.randint(0, 100, size=(1000000))\n",
    "})\n",
    "\n",
    "# Define a function to apply\n",
    "def multiply_by_two(x):\n",
    "    return x * 2\n",
    "\n",
    "# Use a for loop to apply the function to the DataFrame\n",
    "start_time = time.time()\n",
    "for column in df.columns:\n",
    "    df[column] = df[column].apply(multiply_by_two)\n",
    "end_time = time.time()\n",
    "for_loop_time = end_time - start_time\n",
    "print(f\"Time taken using for loop: {for_loop_time} seconds\")\n",
    "\n",
    "# Create a new DataFrame for the apply() method\n",
    "df = pd.DataFrame({\n",
    "    'A': np.random.randint(0, 100, size=(1000000)),\n",
    "    'B': np.random.randint(0, 100, size=(1000000))\n",
    "})\n",
    "\n",
    "# Use apply() to apply the function to the DataFrame\n",
    "start_time = time.time()\n",
    "df = df.apply(multiply_by_two)\n",
    "end_time = time.time()\n",
    "apply_time = end_time - start_time\n",
    "print(f\"Time taken using apply: {apply_time} seconds\")\n",
    "\n",
    "# Calculate the percentage difference\n",
    "percentage_difference = ((for_loop_time - apply_time) / for_loop_time) * 100\n",
    "print(f\"The apply function is {percentage_difference}% faster than the for loop.\")\n"
   ]
  },
  {
   "cell_type": "markdown",
   "id": "f87eca5e",
   "metadata": {},
   "source": [
    "This code compares two methods for applying a function to each element in a large DataFrame and measures their performance:\n",
    "\n",
    "1. **Using a for loop with apply():** It iterates over each column in the DataFrame and applies the multiply_by_two function to each element using the apply() method. This method modifies the DataFrame in place.<br>\n",
    "2. **Using apply() directly on the DataFrame:** It applies the multiply_by_two function directly to the entire DataFrame using the apply() method without iterating over columns explicitly. This method creates a new DataFrame with the modified values.<br>\n",
    "<br>\n",
    "After applying the function using both methods, it measures the time taken for each approach using the time module. Then, it compares the time taken by both methods and calculates the percentage difference to see which method is faster for this task."
   ]
  },
  {
   "cell_type": "markdown",
   "id": "abbe8f34",
   "metadata": {},
   "source": [
    "### Applying all these function that we learnt, on BTC-USD.csv dataset and the running each scrip 10 times and plot the results as a dot and line plot"
   ]
  },
  {
   "cell_type": "code",
   "execution_count": 257,
   "id": "c38912cc",
   "metadata": {},
   "outputs": [],
   "source": [
    "import pandas as pd\n",
    "import matplotlib.pyplot as plt\n",
    "import timeit"
   ]
  },
  {
   "cell_type": "code",
   "execution_count": 258,
   "id": "a68f2e53",
   "metadata": {},
   "outputs": [
    {
     "data": {
      "text/html": [
       "<div>\n",
       "<style scoped>\n",
       "    .dataframe tbody tr th:only-of-type {\n",
       "        vertical-align: middle;\n",
       "    }\n",
       "\n",
       "    .dataframe tbody tr th {\n",
       "        vertical-align: top;\n",
       "    }\n",
       "\n",
       "    .dataframe thead th {\n",
       "        text-align: right;\n",
       "    }\n",
       "</style>\n",
       "<table border=\"1\" class=\"dataframe\">\n",
       "  <thead>\n",
       "    <tr style=\"text-align: right;\">\n",
       "      <th></th>\n",
       "      <th>Date</th>\n",
       "      <th>Open</th>\n",
       "      <th>High</th>\n",
       "      <th>Low</th>\n",
       "      <th>Close</th>\n",
       "      <th>Adj Close</th>\n",
       "      <th>Volume</th>\n",
       "    </tr>\n",
       "  </thead>\n",
       "  <tbody>\n",
       "    <tr>\n",
       "      <th>0</th>\n",
       "      <td>2023-03-21</td>\n",
       "      <td>27768.392578</td>\n",
       "      <td>28439.562500</td>\n",
       "      <td>27439.646484</td>\n",
       "      <td>28175.816406</td>\n",
       "      <td>28175.816406</td>\n",
       "      <td>3.610219e+10</td>\n",
       "    </tr>\n",
       "    <tr>\n",
       "      <th>1</th>\n",
       "      <td>2023-03-22</td>\n",
       "      <td>28158.720703</td>\n",
       "      <td>28803.335938</td>\n",
       "      <td>26759.996094</td>\n",
       "      <td>27307.437500</td>\n",
       "      <td>27307.437500</td>\n",
       "      <td>3.338202e+10</td>\n",
       "    </tr>\n",
       "    <tr>\n",
       "      <th>2</th>\n",
       "      <td>2023-03-23</td>\n",
       "      <td>27301.957031</td>\n",
       "      <td>28729.843750</td>\n",
       "      <td>27183.363281</td>\n",
       "      <td>28333.972656</td>\n",
       "      <td>28333.972656</td>\n",
       "      <td>2.422043e+10</td>\n",
       "    </tr>\n",
       "    <tr>\n",
       "      <th>3</th>\n",
       "      <td>2023-03-24</td>\n",
       "      <td>28324.111328</td>\n",
       "      <td>28388.437500</td>\n",
       "      <td>27039.265625</td>\n",
       "      <td>27493.285156</td>\n",
       "      <td>27493.285156</td>\n",
       "      <td>2.598031e+10</td>\n",
       "    </tr>\n",
       "    <tr>\n",
       "      <th>4</th>\n",
       "      <td>2023-03-25</td>\n",
       "      <td>27487.337891</td>\n",
       "      <td>27791.826172</td>\n",
       "      <td>27196.234375</td>\n",
       "      <td>27494.707031</td>\n",
       "      <td>27494.707031</td>\n",
       "      <td>1.338301e+10</td>\n",
       "    </tr>\n",
       "  </tbody>\n",
       "</table>\n",
       "</div>"
      ],
      "text/plain": [
       "         Date          Open          High           Low         Close  \\\n",
       "0  2023-03-21  27768.392578  28439.562500  27439.646484  28175.816406   \n",
       "1  2023-03-22  28158.720703  28803.335938  26759.996094  27307.437500   \n",
       "2  2023-03-23  27301.957031  28729.843750  27183.363281  28333.972656   \n",
       "3  2023-03-24  28324.111328  28388.437500  27039.265625  27493.285156   \n",
       "4  2023-03-25  27487.337891  27791.826172  27196.234375  27494.707031   \n",
       "\n",
       "      Adj Close        Volume  \n",
       "0  28175.816406  3.610219e+10  \n",
       "1  27307.437500  3.338202e+10  \n",
       "2  28333.972656  2.422043e+10  \n",
       "3  27493.285156  2.598031e+10  \n",
       "4  27494.707031  1.338301e+10  "
      ]
     },
     "execution_count": 258,
     "metadata": {},
     "output_type": "execute_result"
    }
   ],
   "source": [
    "# Load data from CSV\n",
    "df = pd.read_csv('BTC-USD.csv')\n",
    "df.head()"
   ]
  },
  {
   "cell_type": "code",
   "execution_count": 282,
   "id": "d848adb5",
   "metadata": {},
   "outputs": [
    {
     "name": "stdout",
     "output_type": "stream",
     "text": [
      "For loop execution time: 0.0010318756103515625 seconds\n",
      "Map + Lambda execution time: 0.0 seconds\n",
      "List comprehension execution time: 0.0 seconds\n",
      "Apply execution time: 0.0009617805480957031 seconds\n"
     ]
    }
   ],
   "source": [
    "import time\n",
    "\n",
    "# Function to square a number\n",
    "def square(x):\n",
    "    return x ** 2\n",
    "\n",
    "# Measure execution time using a for loop\n",
    "start_time = time.time()\n",
    "squared_prices_for_loop = []\n",
    "for price in df['Close']:\n",
    "    squared_prices_for_loop.append(square(price))\n",
    "end_time = time.time()\n",
    "for_loop_time = end_time - start_time\n",
    "print(f\"For loop execution time: {for_loop_time} seconds\")\n",
    "\n",
    "# Measure execution time using map and lambda\n",
    "start_time = time.time()\n",
    "squared_prices_map_lambda = list(map(lambda x: x ** 2, df['Close']))\n",
    "end_time = time.time()\n",
    "map_lambda_time = end_time - start_time\n",
    "print(f\"Map + Lambda execution time: {map_lambda_time} seconds\")\n",
    "\n",
    "# Measure execution time using list comprehension\n",
    "start_time = time.time()\n",
    "squared_prices_list_comp = [x ** 2 for x in df['Close']]\n",
    "end_time = time.time()\n",
    "list_comp_time = end_time - start_time\n",
    "print(f\"List comprehension execution time: {list_comp_time} seconds\")\n",
    "\n",
    "# Measure execution time using apply\n",
    "start_time = time.time()\n",
    "squared_prices_apply = df['Close'].apply(square)\n",
    "end_time = time.time()\n",
    "apply_time = end_time - start_time\n",
    "print(f\"Apply execution time: {apply_time} seconds\")\n"
   ]
  },
  {
   "cell_type": "code",
   "execution_count": 288,
   "id": "334d20f6",
   "metadata": {},
   "outputs": [
    {
     "data": {
      "image/png": "[encoded data removed]",
      "text/plain": [
       "<Figure size 1000x600 with 1 Axes>"
      ]
     },
     "metadata": {},
     "output_type": "display_data"
    }
   ],
   "source": [
    "# Define functions\n",
    "def test_function():\n",
    "    return sum(df['Close'])\n",
    "\n",
    "def test_map():\n",
    "    return sum(map(lambda x: x, df['Close']))\n",
    "\n",
    "def test_filter():\n",
    "    return sum(filter(lambda x: x > 0, df['Close']))\n",
    "\n",
    "def test_list_comprehension():\n",
    "    return sum([x for x in df['Close']])\n",
    "\n",
    "# Define function to run script 10 times and record execution time\n",
    "def run_script(script):\n",
    "    execution_times = []\n",
    "    for _ in range(10):\n",
    "        start_time = timeit.default_timer()\n",
    "        script()\n",
    "        end_time = timeit.default_timer()\n",
    "        execution_times.append(end_time - start_time)\n",
    "    return execution_times\n",
    "\n",
    "# Run each script 10 times and record execution times\n",
    "function_times = run_script(test_function)\n",
    "map_times = run_script(test_map)\n",
    "filter_times = run_script(test_filter)\n",
    "list_comp_times = run_script(test_list_comprehension)\n",
    "\n",
    "# Plot the results\n",
    "plt.figure(figsize=(10, 6))\n",
    "plt.plot(range(1, 11), function_times, marker='o', label='Function')\n",
    "plt.plot(range(1, 11), map_times, marker='o', label='Map')\n",
    "plt.plot(range(1, 11), filter_times, marker='o', label='Filter')\n",
    "plt.plot(range(1, 11), list_comp_times, marker='o', label='List Comprehension')\n",
    "plt.xlabel('Run Number')\n",
    "plt.ylabel('Execution Time (s)')\n",
    "plt.title('Execution Time of Different Scripts')\n",
    "plt.legend()\n",
    "plt.grid(True)\n",
    "plt.show()\n"
   ]
  },
  {
   "cell_type": "markdown",
   "id": "6f34063a",
   "metadata": {},
   "source": [
    "## Summary:\n",
    "In this lab task, we learnt about some important functions in Python; like Map, filter, list comprehension, and apply function. Also we applied those functions on our dataset, we used `btc-usd.csv` dataset, then we ran each scrip 10 times and plot the results as a dot and line plot as shown in above cell.<br>\n",
    "1. *Map Function:* It's a built-in function that applies a given function to each item of an iterable and returns an iterator yielding the results. In the example provided, it was used to calculate the square of each number in a list.\n",
    "<br>\n",
    "\n",
    "2. *Lambda Function:* Lambda functions are small, anonymous functions defined using the lambda keyword. They can have any number of parameters but can only have one expression. They are commonly used in conjunction with functions like map(), filter(), and sorted().\n",
    "<br>\n",
    "\n",
    "3. *Filter Function:* The filter() function filters elements from an iterable based on a specified condition. It returns an iterator yielding those elements that meet the condition. In the example, it was used to filter even numbers from a list.\n",
    "<br>\n",
    "\n",
    "4. *List Comprehension:* List comprehension provides a concise and efficient way to create lists in Python. It consists of an expression followed by a for clause, then zero or more for or if clauses. It was used to calculate the squares of numbers in a list.\n",
    "<br>\n",
    "\n",
    "5. *Apply function*: It is a powerful tool for performing custom operations on DataFrames and Series in pandas, allowing for more concise and efficient code compared to using explicit loops. With apply(), you can apply a custom function to each element, row, or column of a DataFrame or Series in a single line of code. This makes your code more readable and concise compared to writing explicit loops."
   ]
  },
  {
   "cell_type": "markdown",
   "id": "fbcbed28",
   "metadata": {},
   "source": [
    "CPU and memory utilization:"
   ]
  },
  {
   "cell_type": "code",
   "execution_count": 283,
   "id": "b3d228a3",
   "metadata": {},
   "outputs": [
    {
     "name": "stdout",
     "output_type": "stream",
     "text": [
      "CPU utilization: 4.3%\n"
     ]
    }
   ],
   "source": [
    "import psutil \n",
    "print(f\"CPU utilization: {psutil.cpu_percent()}%\") "
   ]
  },
  {
   "cell_type": "code",
   "execution_count": 284,
   "id": "612e067f",
   "metadata": {},
   "outputs": [
    {
     "name": "stdout",
     "output_type": "stream",
     "text": [
      "Memory utilization: 52.1%\n"
     ]
    }
   ],
   "source": [
    "import psutil \n",
    "print(f\"Memory utilization: {psutil.virtual_memory().percent}%\") "
   ]
  },
  {
   "cell_type": "code",
   "execution_count": 286,
   "id": "da58aef4",
   "metadata": {},
   "outputs": [
    {
     "name": "stdout",
     "output_type": "stream",
     "text": [
      "Machine Architecture: AMD64\n",
      "Processor: Intel64 Family 6 Model 142 Stepping 10, GenuineIntel\n",
      "Operating System: Windows\n"
     ]
    }
   ],
   "source": [
    "import platform\n",
    "architecture = platform.machine()\n",
    "\n",
    "processor = platform.processor()\n",
    "\n",
    "system = platform.system()\n",
    "\n",
    "print(f\"Machine Architecture: {architecture}\")\n",
    "print(f\"Processor: {processor}\")\n",
    "print(f\"Operating System: {system}\")\n"
   ]
  },
  {
   "cell_type": "code",
   "execution_count": null,
   "id": "b74d8858",
   "metadata": {},
   "outputs": [],
   "source": []
  }
 ],
 "metadata": {
  "kernelspec": {
   "display_name": "Python 3 (ipykernel)",
   "language": "python",
   "name": "python3"
  },
  "language_info": {
   "codemirror_mode": {
    "name": "ipython",
    "version": 3
   },
   "file_extension": ".py",
   "mimetype": "text/x-python",
   "name": "python",
   "nbconvert_exporter": "python",
   "pygments_lexer": "ipython3",
   "version": "3.9.13"
  }
 },
 "nbformat": 4,
 "nbformat_minor": 5
}
